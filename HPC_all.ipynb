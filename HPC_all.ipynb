{
  "nbformat": 4,
  "nbformat_minor": 0,
  "metadata": {
    "colab": {
      "provenance": [],
      "gpuType": "T4"
    },
    "kernelspec": {
      "name": "python3",
      "display_name": "Python 3"
    },
    "language_info": {
      "name": "python"
    },
    "accelerator": "GPU"
  },
  "cells": [
    {
      "cell_type": "code",
      "source": [
        "#Practical 4"
      ],
      "metadata": {
        "id": "-9DQ1JUMadaY"
      },
      "execution_count": 4,
      "outputs": []
    },
    {
      "cell_type": "code",
      "execution_count": 3,
      "metadata": {
        "colab": {
          "base_uri": "https://localhost:8080/"
        },
        "id": "E2WTHSkKxrAb",
        "outputId": "11c37c48-45de-4d0d-cf03-99c50da9d178"
      },
      "outputs": [
        {
          "output_type": "stream",
          "name": "stdout",
          "text": [
            "nvcc: NVIDIA (R) Cuda compiler driver\n",
            "Copyright (c) 2005-2022 NVIDIA Corporation\n",
            "Built on Wed_Sep_21_10:33:58_PDT_2022\n",
            "Cuda compilation tools, release 11.8, V11.8.89\n",
            "Build cuda_11.8.r11.8/compiler.31833905_0\n"
          ]
        }
      ],
      "source": [
        "!nvcc --version"
      ]
    },
    {
      "cell_type": "code",
      "source": [
        "!pip install git+https://github.com/andreinechaev/nvcc4jupyter.git"
      ],
      "metadata": {
        "colab": {
          "base_uri": "https://localhost:8080/"
        },
        "id": "MHY_S_8ix48G",
        "outputId": "13c52dfd-7f43-4322-c506-598d82fc8751"
      },
      "execution_count": 5,
      "outputs": [
        {
          "output_type": "stream",
          "name": "stdout",
          "text": [
            "Looking in indexes: https://pypi.org/simple, https://us-python.pkg.dev/colab-wheels/public/simple/\n",
            "Collecting git+https://github.com/andreinechaev/nvcc4jupyter.git\n",
            "  Cloning https://github.com/andreinechaev/nvcc4jupyter.git to /tmp/pip-req-build-dxc3cv8n\n",
            "  Running command git clone --filter=blob:none --quiet https://github.com/andreinechaev/nvcc4jupyter.git /tmp/pip-req-build-dxc3cv8n\n",
            "  Resolved https://github.com/andreinechaev/nvcc4jupyter.git to commit aac710a35f52bb78ab34d2e52517237941399eff\n",
            "  Preparing metadata (setup.py) ... \u001b[?25l\u001b[?25hdone\n",
            "Building wheels for collected packages: NVCCPlugin\n",
            "  Building wheel for NVCCPlugin (setup.py) ... \u001b[?25l\u001b[?25hdone\n",
            "  Created wheel for NVCCPlugin: filename=NVCCPlugin-0.0.2-py3-none-any.whl size=4287 sha256=55cd76fcc3b8f81e0bf021369b0c00628ad253535d095655bd443a1dd67ead9d\n",
            "  Stored in directory: /tmp/pip-ephem-wheel-cache-hkoetem2/wheels/a8/b9/18/23f8ef71ceb0f63297dd1903aedd067e6243a68ea756d6feea\n",
            "Successfully built NVCCPlugin\n",
            "Installing collected packages: NVCCPlugin\n",
            "Successfully installed NVCCPlugin-0.0.2\n"
          ]
        }
      ]
    },
    {
      "cell_type": "code",
      "source": [
        "%load_ext nvcc_plugin"
      ],
      "metadata": {
        "colab": {
          "base_uri": "https://localhost:8080/"
        },
        "id": "blM5f-RYx82M",
        "outputId": "918d69fc-45a7-4f79-a6df-ac153821cf9c"
      },
      "execution_count": 6,
      "outputs": [
        {
          "output_type": "stream",
          "name": "stdout",
          "text": [
            "created output directory at /content/src\n",
            "Out bin /content/result.out\n"
          ]
        }
      ]
    },
    {
      "cell_type": "code",
      "source": [
        "%%cu\n",
        "#include \"cuda_runtime.h\"\n",
        "#include \"device_launch_parameters.h\"\n",
        "#include <stdio.h>\n",
        "__global__ void addKernel(int* c, const int* a, const int* b, int size) {\n",
        " int i = blockIdx.x * blockDim.x + threadIdx.x;\n",
        " if (i < size) {\n",
        " c[i] = a[i] + b[i];\n",
        " }\n",
        "}\n",
        "void addWithCuda(int* c, const int* a, const int* b, int size) {\n",
        " int* dev_a = nullptr;\n",
        " int* dev_b = nullptr;\n",
        " int* dev_c = nullptr;\n",
        " cudaMalloc((void**)&dev_c, size * sizeof(int));\n",
        " cudaMalloc((void**)&dev_a, size * sizeof(int));\n",
        " cudaMalloc((void**)&dev_b, size * sizeof(int));\n",
        " cudaMemcpy(dev_a, a, size * sizeof(int), cudaMemcpyHostToDevice);\n",
        " cudaMemcpy(dev_b, b, size * sizeof(int), cudaMemcpyHostToDevice);\n",
        " addKernel<<<2, (size + 1) / 2>>>(dev_c, dev_a, dev_b, size);\n",
        "\n",
        " cudaDeviceSynchronize();\n",
        " cudaMemcpy(c, dev_c, size * sizeof(int), cudaMemcpyDeviceToHost);\n",
        " cudaFree(dev_c);\n",
        " cudaFree(dev_a);\n",
        " cudaFree(dev_b);\n",
        "}\n",
        "int main(int argc, char** argv) {\n",
        " const int arraySize = 5;\n",
        " const int a[arraySize] = { 1, 2, 3, 4, 5 };\n",
        " const int b[arraySize] = { 10, 20, 30, 40, 50 };\n",
        " int c[arraySize] = { 0 };\n",
        " addWithCuda(c, a, b, arraySize);\n",
        " printf(\"{1, 2, 3, 4, 5} + {10, 20, 30, 40, 50} = {%d, %d, %d, %d, %d}\\n\", c[0], c[1], c[2], c[3], c[4]);\n",
        " cudaDeviceReset();\n",
        " return 0;\n",
        "}"
      ],
      "metadata": {
        "colab": {
          "base_uri": "https://localhost:8080/"
        },
        "id": "Mn6NVhQZx9vV",
        "outputId": "95c7a269-4dc6-4436-ffe0-e4b33014adc3"
      },
      "execution_count": 7,
      "outputs": [
        {
          "output_type": "stream",
          "name": "stdout",
          "text": [
            "{1, 2, 3, 4, 5} + {10, 20, 30, 40, 50} = {11, 22, 33, 44, 55}\n",
            "\n"
          ]
        }
      ]
    },
    {
      "cell_type": "code",
      "source": [
        "%%cu\n",
        "#include<stdio.h>\n",
        "#include<cuda.h>\n",
        "#define row1 2 /* Number of rows of first matrix */\n",
        "#define col1 3 /* Number of columns of first matrix */\n",
        "#define row2 3 /* Number of rows of second matrix */\n",
        "#define col2 2 /* Number of columns of second matrix */\n",
        "__global__ void matproduct(int *l, int *m, int *n){\n",
        " int x = blockIdx.x;\n",
        " int y = blockIdx.y;\n",
        " int k;\n",
        " n[col2 * y + x] = 0;\n",
        " for(k = 0; k < col1; k++){\n",
        " n[col2 * y + x] = n[col2 * y + x] + l[col1 * y + k] * m[col2 * k + x];\n",
        " }\n",
        "}\n",
        "int main(){\n",
        " //# int row1 = 2, row2 = 3, col1 = 3, col2 = 2;\n",
        " int a[row1][col1] = {{1, 2, 3}, {4, 5, 6}};\n",
        " int b[row2][col2] = {{9, 8}, {6, 5}, {3, 2}};\n",
        " int c[row1][col2];\n",
        " int *d, *e, *f;\n",
        " int i, j;\n",
        " cudaMalloc((void **)&d, row1*col1*sizeof(int));\n",
        " cudaMalloc((void **)&e, row2*col2*sizeof(int));\n",
        " cudaMalloc((void **)&f, row1*col2*sizeof(int));\n",
        " cudaMemcpy(d, a, row1*col1*sizeof(int), cudaMemcpyHostToDevice);\n",
        " cudaMemcpy(e, b, row2*col2*sizeof(int), cudaMemcpyHostToDevice);\n",
        " dim3 grid(col2, row1);\n",
        " # /* Here we are defining two dimensional Grid(collection of blocks) structure. Syntax is dim3\n",
        "grid(no. of columns,no. of rows) */\n",
        " matproduct<<<grid,1>>>(d,e,f);\n",
        " cudaMemcpy(c, f, row1*col2*sizeof(int), cudaMemcpyDeviceToHost);\n",
        " printf(\"\\nProduct of two matrices:\\n \");\n",
        "\n",
        " for(i = 0; i < row1; i++){\n",
        " for(j = 0; j < col2; j++){\n",
        " printf(\"%d\\t\",c[i][j]);\n",
        " }\n",
        " printf(\"\\n\");\n",
        " }\n",
        " cudaFree(d);\n",
        " cudaFree(e);\n",
        " cudaFree(f);\n",
        " return 0;\n",
        "} \n"
      ],
      "metadata": {
        "colab": {
          "base_uri": "https://localhost:8080/"
        },
        "id": "0MKAmHH7yE8l",
        "outputId": "c5ed0017-ccdb-4784-8f73-daeac75651ba"
      },
      "execution_count": 8,
      "outputs": [
        {
          "output_type": "stream",
          "name": "stdout",
          "text": [
            "\n",
            "Product of two matrices:\n",
            " 30\t24\t\n",
            "84\t69\t\n",
            "\n"
          ]
        }
      ]
    },
    {
      "cell_type": "code",
      "source": [
        "#Practical 1"
      ],
      "metadata": {
        "id": "h3VEvUQV82DR"
      },
      "execution_count": 9,
      "outputs": []
    },
    {
      "cell_type": "code",
      "source": [
        "%%writefile main.cpp\n",
        "#include <bits/stdc++.h>\n",
        "#include <omp.h>\n",
        "\n",
        "using namespace std;\n",
        "\n",
        "const int N = 1e5 + 5;\n",
        "vector<int> g[N];\n",
        "bool vis[N];\n",
        "\n",
        "void bfs(int s) {\n",
        "    queue<int> q;\n",
        "    q.push(s);\n",
        "    vis[s] = true;\n",
        "\n",
        "    while (!q.empty()) {\n",
        "        int u = q.front();\n",
        "        cout << u << \" \";\n",
        "        q.pop();\n",
        "\n",
        "        #pragma omp parallel for\n",
        "        for (int i = 0; i < g[u].size(); i++) {\n",
        "            int v = g[u][i];\n",
        "            if (!vis[v]) {\n",
        "                vis[v] = true;\n",
        "                q.push(v);\n",
        "            }\n",
        "        }\n",
        "    }\n",
        "}\n",
        "\n",
        "void dfs(int u) {\n",
        "    vis[u] = true;\n",
        "    cout << u << \" \";\n",
        "    \n",
        "\n",
        "    #pragma omp parallel for\n",
        "    for (int i = 0; i < g[u].size(); i++) {\n",
        "        int v = g[u][i];\n",
        "        if (!vis[v])\n",
        "            dfs(v);\n",
        "    }\n",
        "}\n",
        "\n",
        "int main() {\n",
        "    int n, m, s, choice;\n",
        "    cin >> n >> m >> s >> choice;\n",
        "\n",
        "    for (int i = 0; i < m; i++) {\n",
        "        int x, y;\n",
        "        cin >> x >> y;\n",
        "        g[x].push_back(y);\n",
        "        g[y].push_back(x);\n",
        "    }\n",
        "\n",
        "    if (choice == 1){\n",
        "        cout << \"BFS : \";\n",
        "        bfs(s);}\n",
        "    else if (choice == 2){\n",
        "        cout << \"DFS : \";\n",
        "        dfs(s);}\n",
        "    else\n",
        "        cout << \"Invalid choice\\n\";\n",
        "    \n",
        "\n",
        "    return 0;\n",
        "}\n",
        "\n",
        "\n",
        "// Test cases:\n",
        "// Input:\n",
        "// 6 7 1 1\n",
        "// 1 2\n",
        "// 1 3\n",
        "// 2 4\n",
        "// 2 5\n",
        "// 3 5\n",
        "// 4 6\n",
        "// 5 6\n",
        "// Output:\n",
        "// The result of traversal:\n",
        "// BFS 1 2 3 4 5 6\n",
        "// DFS : 1 2 4 6 5 3"
      ],
      "metadata": {
        "id": "3NVwVt9V-Rve",
        "colab": {
          "base_uri": "https://localhost:8080/"
        },
        "outputId": "79b4c9ab-a5fa-4356-da95-8b36dca7c7cf"
      },
      "execution_count": 18,
      "outputs": [
        {
          "output_type": "stream",
          "name": "stdout",
          "text": [
            "Overwriting main.cpp\n"
          ]
        }
      ]
    },
    {
      "cell_type": "code",
      "source": [
        "%%shell\n",
        "g++ main.cpp -o output\n",
        "./output"
      ],
      "metadata": {
        "colab": {
          "base_uri": "https://localhost:8080/"
        },
        "id": "aReajnCE0PWM",
        "outputId": "920821d2-bade-4bb9-8dee-84493b2bc63f"
      },
      "execution_count": 20,
      "outputs": [
        {
          "output_type": "stream",
          "name": "stdout",
          "text": [
            "6 7 1 2\n",
            "1 2\n",
            "1 3\n",
            "2 4\n",
            "2 5\n",
            "3 5\n",
            "4 6\n",
            "5 6\n",
            "DFS : 1 2 4 6 5 3 "
          ]
        },
        {
          "output_type": "execute_result",
          "data": {
            "text/plain": []
          },
          "metadata": {},
          "execution_count": 20
        }
      ]
    },
    {
      "cell_type": "code",
      "source": [
        "#Practical 2"
      ],
      "metadata": {
        "id": "Xp3Yo5eB0YcC"
      },
      "execution_count": 2,
      "outputs": []
    },
    {
      "cell_type": "code",
      "source": [
        "%%writefile main.cpp\n",
        "#include <iostream>\n",
        "#include <cstdlib>\n",
        "#include <ctime>\n",
        "#include <omp.h>\n",
        "\n",
        "using namespace std;\n",
        "\n",
        "// Parallel Bubble Sort function\n",
        "void parallelBubbleSort(int *array, int n) {\n",
        "    int i, j;\n",
        "\n",
        "    #pragma omp parallel for private(i, j) shared(array)\n",
        "    for (i = 0; i < n-1; i++) {\n",
        "        for (j = 0; j < n-i-1; j++) {\n",
        "            if (array[j] > array[j+1]) {\n",
        "                // Swap elements\n",
        "                int temp = array[j];\n",
        "                array[j] = array[j+1];\n",
        "                array[j+1] = temp;\n",
        "            }\n",
        "        }\n",
        "    }\n",
        "}\n",
        "\n",
        "// Parallel Merge Sort function\n",
        "void merge(int *array, int l, int m, int r) {\n",
        "    int i, j, k;\n",
        "    int n1 = m - l + 1;\n",
        "    int n2 =  r - m;\n",
        "\n",
        "    // Create temp arrays\n",
        "    int *L = new int[n1];\n",
        "    int *R = new int[n2];\n",
        "\n",
        "    // Copy data to temp arrays L[] and R[]\n",
        "    for (i = 0; i < n1; i++)\n",
        "        L[i] = array[l + i];\n",
        "    for (j = 0; j < n2; j++)\n",
        "        R[j] = array[m + 1+ j];\n",
        "\n",
        "    // Merge the temp arrays back into array[l..r]\n",
        "    i = 0;\n",
        "    j = 0;\n",
        "    k = l;\n",
        "    while (i < n1 && j < n2) {\n",
        "        if (L[i] <= R[j]) {\n",
        "            array[k] = L[i];\n",
        "            i++;\n",
        "        } else {\n",
        "            array[k] = R[j];\n",
        "            j++;\n",
        "        }\n",
        "        k++;\n",
        "    }\n",
        "\n",
        "    // Copy the remaining elements of L[], if there are any\n",
        "    while (i < n1) {\n",
        "        array[k] = L[i];\n",
        "        i++;\n",
        "        k++;\n",
        "    }\n",
        "\n",
        "    // Copy the remaining elements of R[], if there are any\n",
        "    while (j < n2) {\n",
        "        array[k] = R[j];\n",
        "        j++;\n",
        "        k++;\n",
        "    }\n",
        "\n",
        "    delete [] L;\n",
        "    delete [] R;\n",
        "}\n",
        "\n",
        "void parallelMergeSort(int *array, int l, int r) {\n",
        "    if (l < r) {\n",
        "        int m = l+(r-l)/2;\n",
        "\n",
        "        #pragma omp parallel sections\n",
        "        {\n",
        "            #pragma omp section\n",
        "            parallelMergeSort(array, l, m);\n",
        "\n",
        "            #pragma omp section\n",
        "            parallelMergeSort(array, m+1, r);\n",
        "        }\n",
        "\n",
        "        merge(array, l, m, r);\n",
        "    }\n",
        "}\n",
        "\n",
        "int main() {\n",
        "    int n;\n",
        "    cout << \"Enter the size of the array: \";\n",
        "    cin >> n;\n",
        "\n",
        "int *array = new int[n];\n",
        "cout << \"Enter the elements of the array:\" << endl;\n",
        "for (int i = 0; i < n; i++) {\n",
        "    cin >> array[i];\n",
        "}\n",
        "\n",
        "\n",
        "\n",
        "cout << \"Original Array: \";\n",
        "for (int i = 0; i < n; i++) {\n",
        "    cout << array[i] << \" \";\n",
        "}\n",
        "cout << endl;\n",
        "\n",
        "int choice;\n",
        "cout << \"Enter 1 for Parallel Bubble Sort or 2 for Parallel Merge Sort: \";\n",
        "cin >> choice;\n",
        "\n",
        "if (choice == 1) {\n",
        "    parallelBubbleSort(array, n);\n",
        "} else if (choice == 2) {\n",
        "    parallelMergeSort(array, 0, n-1);\n",
        "} else {\n",
        "    cout << \"Invalid choice. Exiting program.\" << endl;\n",
        "    return 0;\n",
        "}\n",
        "\n",
        "cout << \"Sorted Array: \";\n",
        "for (int i = 0; i < n; i++) {\n",
        "    cout << array[i] << \" \";\n",
        "}\n",
        "cout << endl;\n",
        "\n",
        "delete [] array;\n",
        "\n",
        "return 0;\n",
        "}\n",
        "\n",
        "\n",
        "\n",
        "\n",
        "\n",
        "\n",
        "\n",
        "\n",
        "\n",
        "// Test Case 1:\n",
        "// Input:\n",
        "// Enter the size of the array: 5\n",
        "// Enter 1 for Parallel Bubble Sort or 2 for Parallel Merge Sort: 1\n",
        "\n",
        "// Output:\n",
        "// Original Array: 68 67 69 73 29\n",
        "// Sorted Array: 29 67 68 69 73"
      ],
      "metadata": {
        "colab": {
          "base_uri": "https://localhost:8080/"
        },
        "id": "q6-a7xYQbI96",
        "outputId": "f30cc70c-f472-4c70-a33c-2a9bfaaa0ea1"
      },
      "execution_count": 21,
      "outputs": [
        {
          "output_type": "stream",
          "name": "stdout",
          "text": [
            "Overwriting main.cpp\n"
          ]
        }
      ]
    },
    {
      "cell_type": "code",
      "source": [
        "%%shell\n",
        "g++ main.cpp -o output\n",
        "./output"
      ],
      "metadata": {
        "colab": {
          "base_uri": "https://localhost:8080/"
        },
        "id": "yEBGUk2-bNqJ",
        "outputId": "c6235734-1509-407e-e3ba-96fcb24f14a2"
      },
      "execution_count": 22,
      "outputs": [
        {
          "output_type": "stream",
          "name": "stdout",
          "text": [
            "Enter the size of the array: 5\n",
            "Enter the elements of the array:\n",
            "5 1 2 4 7\n",
            "Original Array: 5 1 2 4 7 \n",
            "Enter 1 for Parallel Bubble Sort or 2 for Parallel Merge Sort: 1\n",
            "Sorted Array: 1 2 4 5 7 \n"
          ]
        },
        {
          "output_type": "execute_result",
          "data": {
            "text/plain": []
          },
          "metadata": {},
          "execution_count": 22
        }
      ]
    },
    {
      "cell_type": "code",
      "source": [
        "%%writefile main.cpp\n",
        "#include <iostream>\n",
        "#include <vector>\n",
        "#include <limits.h>\n",
        "#include <omp.h>\n",
        "\n",
        "using namespace std;\n",
        "\n",
        "void min_reduction(vector<int>& arr) {\n",
        "    int min_value = INT_MAX;\n",
        "#pragma omp parallel for reduction(min: min_value)\n",
        "    for (int i = 0; i < arr.size(); i++) {\n",
        "        if (arr[i] < min_value) {\n",
        "            min_value = arr[i];\n",
        "        }\n",
        "    }\n",
        "    cout << \"Minimum value: \" << min_value << endl;\n",
        "}\n",
        "\n",
        "void max_reduction(vector<int>& arr) {\n",
        "    int max_value = INT_MIN;\n",
        "#pragma omp parallel for reduction(max: max_value)\n",
        "    for (int i = 0; i < arr.size(); i++) {\n",
        "        if (arr[i] > max_value) {\n",
        "            max_value = arr[i];\n",
        "        }\n",
        "    }\n",
        "    cout << \"Maximum value: \" << max_value << endl;\n",
        "}\n",
        "\n",
        "void sum_reduction(vector<int>& arr) {\n",
        "    int sum = 0;\n",
        "#pragma omp parallel for reduction(+: sum)\n",
        "    for (int i = 0; i < arr.size(); i++) {\n",
        "        sum += arr[i];\n",
        "    }\n",
        "    cout << \"Sum: \" << sum << endl;\n",
        "}\n",
        "\n",
        "void average_reduction(vector<int>& arr) {\n",
        "    int sum = 0;\n",
        "#pragma omp parallel for reduction(+: sum)\n",
        "    for (int i = 0; i < arr.size(); i++) {\n",
        "        sum += arr[i];\n",
        "    }\n",
        "    cout << \"Average: \" << (double)sum / arr.size() << endl;\n",
        "}\n",
        "\n",
        "int main() {\n",
        "    int n;\n",
        "    cout << \"Enter the size of the array: \";\n",
        "    cin >> n;\n",
        "\n",
        "    vector<int> arr(n);\n",
        "    cout << \"Enter the elements of the array:\" << endl;\n",
        "    for (int i = 0; i < n; i++) {\n",
        "        cin >> arr[i];\n",
        "    }\n",
        "\n",
        "    min_reduction(arr);\n",
        "    max_reduction(arr);\n",
        "    sum_reduction(arr);\n",
        "    average_reduction(arr);\n",
        "    return 0;\n",
        "}\n",
        "\n",
        "// Output:\n",
        "// Enter the size of the array: 5\n",
        "// Enter the elements of the array:\n",
        "// 5 6 7 2 1\n",
        "// Minimum value: 1\n",
        "// Maximum value: 7\n",
        "// Sum: 21\n",
        "// Average: 4.2\n"
      ],
      "metadata": {
        "colab": {
          "base_uri": "https://localhost:8080/"
        },
        "id": "_0ukpRdAcMsZ",
        "outputId": "dea39b9f-1656-4490-af03-b3eb8e3017a4"
      },
      "execution_count": 24,
      "outputs": [
        {
          "output_type": "stream",
          "name": "stdout",
          "text": [
            "Overwriting main.cpp\n"
          ]
        }
      ]
    },
    {
      "cell_type": "code",
      "source": [
        "%%shell\n",
        "g++ main.cpp -o output\n",
        "./output"
      ],
      "metadata": {
        "colab": {
          "base_uri": "https://localhost:8080/"
        },
        "id": "dl1cSX7UcYWh",
        "outputId": "16d52060-8c7b-454d-ed81-05924190fe40"
      },
      "execution_count": 25,
      "outputs": [
        {
          "output_type": "stream",
          "name": "stdout",
          "text": [
            "Enter the size of the array: 5\n",
            "Enter the elements of the array:\n",
            "5 5 5 5 5\n",
            "Minimum value: 5\n",
            "Maximum value: 5\n",
            "Sum: 25\n",
            "Average: 5\n"
          ]
        },
        {
          "output_type": "execute_result",
          "data": {
            "text/plain": []
          },
          "metadata": {},
          "execution_count": 25
        }
      ]
    }
  ]
}